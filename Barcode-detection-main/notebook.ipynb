{
 "metadata": {
  "language_info": {
   "codemirror_mode": {
    "name": "ipython",
    "version": 3
   },
   "file_extension": ".py",
   "mimetype": "text/x-python",
   "name": "python",
   "nbconvert_exporter": "python",
   "pygments_lexer": "ipython3",
   "version": "3.8.1-final"
  },
  "orig_nbformat": 2,
  "kernelspec": {
   "name": "python3",
   "display_name": "Python 3.8.1 64-bit ('venv')",
   "metadata": {
    "interpreter": {
     "hash": "6c77ff988835636c9c646df820670a479365bd64f984868e11faf40507c16301"
    }
   }
  }
 },
 "nbformat": 4,
 "nbformat_minor": 2,
 "cells": [
  {
   "cell_type": "code",
   "execution_count": 6,
   "metadata": {},
   "outputs": [],
   "source": [
    "from model.tiny_yolo import TinyYolo\n",
    "from model.utils import load_darknet_weights\n",
    "from settings import Settings"
   ]
  },
  {
   "cell_type": "code",
   "execution_count": 8,
   "metadata": {},
   "outputs": [],
   "source": [
    "tinyolo = TinyYolo(training=True, classes=80)\n",
    "initial_weights = 'data/model/yolov3-tiny.weights'\n",
    "load_darknet_weights(tinyolo.model, initial_weights)\n",
    "tinyolo.model.save_weights(Settings.train[\"pretrained_weights\"])"
   ]
  },
  {
   "cell_type": "code",
   "execution_count": null,
   "metadata": {},
   "outputs": [],
   "source": [
    "tinyolo.train()"
   ]
  }
 ]
}